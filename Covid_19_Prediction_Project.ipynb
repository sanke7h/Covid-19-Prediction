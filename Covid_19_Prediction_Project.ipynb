{
  "cells": [
    {
      "cell_type": "code",
      "execution_count": null,
      "metadata": {
        "id": "zWnUUeqOOSLj"
      },
      "outputs": [],
      "source": [
        "import pandas as pd\n",
        "import numpy as np\n",
        "from itertools import combinations\n",
        "from sklearn.preprocessing import MinMaxScaler,StandardScaler\n",
        "from collections import Counter\n",
        "from imblearn.over_sampling import SMOTE\n",
        "from sklearn.feature_selection import mutual_info_classif,RFE\n",
        "from sklearn.model_selection import train_test_split\n",
        "from sklearn.svm import LinearSVC\n",
        "from sklearn.tree import DecisionTreeClassifier\n",
        "from sklearn.decomposition import PCA\n",
        "from sklearn.linear_model import LogisticRegression, RidgeClassifierCV, LogisticRegressionCV\n",
        "from sklearn.ensemble import GradientBoostingClassifier,AdaBoostClassifier\n",
        "from sklearn.metrics import accuracy_score,recall_score,precision_score,f1_score,roc_auc_score"
      ]
    },
    {
      "cell_type": "code",
      "execution_count": null,
      "metadata": {
        "colab": {
          "base_uri": "https://localhost:8080/"
        },
        "id": "jWqR3GqW7XRu",
        "outputId": "f148fe73-9896-4104-e287-0a6d8c749943"
      },
      "outputs": [
        {
          "output_type": "stream",
          "name": "stdout",
          "text": [
            "Warning: Looks like you're using an outdated `kagglehub` version (installed: 0.3.10), please consider upgrading to the latest version (0.3.11).\n",
            "Downloading from https://www.kaggle.com/api/v1/datasets/download/vrushankts/covid-19?dataset_version_number=1...\n"
          ]
        },
        {
          "output_type": "stream",
          "name": "stderr",
          "text": [
            "100%|██████████| 38.9M/38.9M [00:00<00:00, 67.0MB/s]"
          ]
        },
        {
          "output_type": "stream",
          "name": "stdout",
          "text": [
            "Extracting files...\n"
          ]
        },
        {
          "output_type": "stream",
          "name": "stderr",
          "text": [
            "\n"
          ]
        },
        {
          "output_type": "stream",
          "name": "stdout",
          "text": [
            "Path to dataset files: /root/.cache/kagglehub/datasets/vrushankts/covid-19/versions/1\n",
            "Files in the dataset directory: ['master_dataset.csv']\n"
          ]
        },
        {
          "output_type": "stream",
          "name": "stderr",
          "text": [
            "<ipython-input-2-61470ddf3493>:21: DtypeWarning: Columns (8,9,12,13,14,15,36) have mixed types. Specify dtype option on import or set low_memory=False.\n",
            "  cols=pd.read_csv(csv_path).columns\n",
            "<ipython-input-2-61470ddf3493>:22: DtypeWarning: Columns (8,9,12,13,14,15,36) have mixed types. Specify dtype option on import or set low_memory=False.\n",
            "  data = pd.read_csv(csv_path,skiprows=1,header=None)\n"
          ]
        }
      ],
      "source": [
        "import kagglehub\n",
        "\n",
        "# Download latest version\n",
        "path = kagglehub.dataset_download(\"vrushankts/covid-19\")\n",
        "\n",
        "print(\"Path to dataset files:\", path)\n",
        "import os\n",
        "\n",
        "# Specify the directory containing the dataset files\n",
        "dataset_dir = path  # This is the directory path\n",
        "\n",
        "# List all files in the directory to identify the correct CSV file\n",
        "files = os.listdir(dataset_dir)\n",
        "print(\"Files in the dataset directory:\", files)\n",
        "\n",
        "# Assuming the file you need is named 'covid19_dataset.csv' (replace with actual filename if different)\n",
        "csv_file = [f for f in files if f.endswith('.csv')][0]  # Get the first CSV file (adjust if necessary)\n",
        "csv_path = os.path.join(dataset_dir, csv_file)\n",
        "\n",
        "# Load the CSV file into a Pandas DataFrame\n",
        "cols=pd.read_csv(csv_path).columns\n",
        "data = pd.read_csv(csv_path,skiprows=1,header=None)\n",
        "data=data.drop(data.columns[-1],axis=1)\n",
        "data.columns=cols"
      ]
    },
    {
      "cell_type": "markdown",
      "metadata": {
        "id": "CQwiD212ezGz"
      },
      "source": [
        "**Data Cleaning**"
      ]
    },
    {
      "cell_type": "code",
      "execution_count": null,
      "metadata": {
        "id": "NcQGMuIEXDy1"
      },
      "outputs": [],
      "source": [
        "data['height']=pd.to_numeric(data['height'], errors='coerce')\n",
        "data['weight']=pd.to_numeric(data['weight'], errors='coerce')\n",
        "height=data['height'].mean()\n",
        "weight=data['weight'].mean()\n",
        "age=data['age'].mode()[0]\n",
        "data['height']=data['height'].fillna(height)\n",
        "data['weight']=data['weight'].fillna(weight)\n",
        "data['bmi'] = data['bmi'].fillna(data['weight'] / (data['height'] / 100) ** 2)\n",
        "data['age']=data['age'].fillna(age)"
      ]
    },
    {
      "cell_type": "code",
      "execution_count": null,
      "metadata": {
        "id": "6VUeS_je1cJg"
      },
      "outputs": [],
      "source": [
        "data=data[['sex','age','bmi','smoking','alcohol','cannabis','amphetamines','cocaine','contacts_count','working',\n",
        "        'rate_reducing_risk_single','rate_reducing_mask','covid19_symptoms','covid19_contact','asthma','kidney_disease',\n",
        "        'liver_disease','compromised_immune','heart_disease','lung_disease','diabetes','hiv_positive','hypertension',\n",
        "        'other_chronic','nursing_home','health_worker','covid19_positive']]"
      ]
    },
    {
      "cell_type": "code",
      "execution_count": null,
      "metadata": {
        "id": "3xqMg2qvF-Gg",
        "colab": {
          "base_uri": "https://localhost:8080/"
        },
        "outputId": "261a9325-fdde-43b5-a906-f5aeea09147e"
      },
      "outputs": [
        {
          "output_type": "stream",
          "name": "stderr",
          "text": [
            "<ipython-input-5-33eb958f9d47>:2: SettingWithCopyWarning: \n",
            "A value is trying to be set on a copy of a slice from a DataFrame.\n",
            "Try using .loc[row_indexer,col_indexer] = value instead\n",
            "\n",
            "See the caveats in the documentation: https://pandas.pydata.org/pandas-docs/stable/user_guide/indexing.html#returning-a-view-versus-a-copy\n",
            "  data['rate_reducing_mask']=data['rate_reducing_mask'].fillna(rate_reducing_mask)\n"
          ]
        }
      ],
      "source": [
        "rate_reducing_mask=data['rate_reducing_mask'].mode()[0]\n",
        "data['rate_reducing_mask']=data['rate_reducing_mask'].fillna(rate_reducing_mask)\n",
        "working=data['working'].mode()[0]\n",
        "data['working']=data['working'].fillna(working)\n",
        "smoking=data['smoking'].mode()[0]\n",
        "data['smoking']=data['smoking'].fillna(smoking)"
      ]
    },
    {
      "cell_type": "code",
      "execution_count": null,
      "metadata": {
        "id": "sgOPaxOdKR65"
      },
      "outputs": [],
      "source": [
        "data['alcohol']=data['alcohol'].fillna(data['alcohol'].mode()[0])\n",
        "data['cannabis']=data['cannabis'].fillna(data['cannabis'].mode()[0])\n",
        "data['amphetamines']=data['amphetamines'].fillna(data['amphetamines'].mode()[0])\n",
        "data['cocaine']=data['cocaine'].fillna(data['cocaine'].mode()[0])\n",
        "data['contacts_count']=data['contacts_count'].fillna(data['contacts_count'].mode()[0])"
      ]
    },
    {
      "cell_type": "markdown",
      "metadata": {
        "id": "WiUPT_Wce_dI"
      },
      "source": [
        "**Data Encoding**"
      ]
    },
    {
      "cell_type": "code",
      "execution_count": null,
      "metadata": {
        "id": "hv7UHYFXQpVK"
      },
      "outputs": [],
      "source": [
        "data['age']=data['age'].apply(lambda x: int(sum(map(int, x.split('_'))) / 2))"
      ]
    },
    {
      "cell_type": "code",
      "execution_count": null,
      "metadata": {
        "id": "QZ6_SEzSRhfT"
      },
      "outputs": [],
      "source": [
        "scaler=MinMaxScaler()\n",
        "data['bmi']=scaler.fit_transform(data[['bmi']])\n",
        "data['age']=scaler.fit_transform(data[['age']])\n",
        "data['alcohol']=scaler.fit_transform(data[['alcohol']])\n",
        "data['cannabis']=scaler.fit_transform(data[['cannabis']])\n",
        "data['amphetamines']=scaler.fit_transform(data[['amphetamines']])\n",
        "data['cocaine']=scaler.fit_transform(data[['cocaine']])\n",
        "data['contacts_count']=scaler.fit_transform(data[['contacts_count']])\n",
        "data['rate_reducing_risk_single']=scaler.fit_transform(data[['rate_reducing_risk_single']])\n",
        "data['rate_reducing_mask']=scaler.fit_transform(data[['rate_reducing_mask']])"
      ]
    },
    {
      "cell_type": "code",
      "execution_count": null,
      "metadata": {
        "colab": {
          "base_uri": "https://localhost:8080/"
        },
        "id": "ELw8DdLe0dLf",
        "outputId": "6aa6e2cd-4883-4a45-f1fb-d057e595960c"
      },
      "outputs": [
        {
          "output_type": "stream",
          "name": "stdout",
          "text": [
            "Updated feature names: ['SEX', 'AGE', 'BMI', 'SMK', 'ALC', 'CNB', 'APT', 'CCN', 'CTC', 'WKG', 'RRR', 'RRM', 'CDS', 'CDC', 'AST', 'KDD', 'LVD', 'CPI', 'HTD', 'LGD', 'DBT', 'HIV', 'HPT', 'OTC', 'NSH', 'HTW', 'COVID-19']\n"
          ]
        }
      ],
      "source": [
        "# Mapping from Feature Name to Feature Code (based on the image)\n",
        "feature_mapping = {\n",
        "    \"sex\": \"SEX\",\n",
        "    \"age\": \"AGE\",\n",
        "    \"bmi\": \"BMI\",\n",
        "    \"smoking\": \"SMK\",\n",
        "    \"alcohol\": \"ALC\",\n",
        "    \"cannabis\": \"CNB\",\n",
        "    \"amphetamines\": \"APT\",\n",
        "    \"cocaine\": \"CCN\",\n",
        "    \"contacts_count\": \"CTC\",\n",
        "    \"working\": \"WKG\",\n",
        "    \"rate_reducing_risk_single\": \"RRR\",\n",
        "    \"rate_reducing_mask\": \"RRM\",\n",
        "    \"covid19_symptoms\": \"CDS\",\n",
        "    \"covid19_contact\": \"CDC\",\n",
        "    \"asthma\": \"AST\",\n",
        "    \"kidney_disease\": \"KDD\",\n",
        "    \"liver_disease\": \"LVD\",\n",
        "    \"compromised_immune\": \"CPI\",\n",
        "    \"heart_disease\": \"HTD\",\n",
        "    \"lung_disease\": \"LGD\",\n",
        "    \"diabetes\": \"DBT\",\n",
        "    \"hiv_positive\": \"HIV\",\n",
        "    \"hypertension\": \"HPT\",\n",
        "    \"other_chronic\": \"OTC\",\n",
        "    \"nursing_home\": \"NSH\",\n",
        "    \"health_worker\": \"HTW\",\n",
        "    \"covid19_positive\": \"COVID-19\"\n",
        "}\n",
        "\n",
        "# Replace column names in X\n",
        "data.rename(columns=feature_mapping, inplace=True)\n",
        "\n",
        "# Print new column names\n",
        "print(\"Updated feature names:\", data.columns.tolist())\n"
      ]
    },
    {
      "cell_type": "code",
      "execution_count": null,
      "metadata": {
        "id": "iUC0EUQ_Pmib"
      },
      "outputs": [],
      "source": [
        "data=pd.get_dummies(data,prefix=['SEX','WKG','SMK'])"
      ]
    },
    {
      "cell_type": "markdown",
      "metadata": {
        "id": "LR9XVX7vfIcH"
      },
      "source": [
        "**Smote**"
      ]
    },
    {
      "cell_type": "code",
      "execution_count": null,
      "metadata": {
        "id": "N474EYG9NEml"
      },
      "outputs": [],
      "source": [
        "x=data.drop(['COVID-19'],axis=1)\n",
        "y=data['COVID-19']"
      ]
    },
    {
      "cell_type": "code",
      "execution_count": null,
      "metadata": {
        "id": "ZGfxwF_gM_rQ"
      },
      "outputs": [],
      "source": [
        "    # Calculate sampling strategy for 1:3 ratio\n",
        "ratio = 1/3  # Desired ratio of minority to majority class\n",
        "n_majority = sum(y == 0)\n",
        "sampling_strategy = int(n_majority * ratio)\n",
        "\n",
        "# Apply SMOTE\n",
        "smote = SMOTE(sampling_strategy={1: sampling_strategy}, random_state=42)\n",
        "x, y = smote.fit_resample(x, y)"
      ]
    },
    {
      "cell_type": "code",
      "execution_count": null,
      "metadata": {
        "id": "n8f81HtngJqG"
      },
      "outputs": [],
      "source": [
        "X_train, X_temp, y_train, y_temp = train_test_split(x, y, test_size=0.30, stratify=y, random_state=42)\n",
        "X_val, X_test, y_val, y_test = train_test_split(X_temp, y_temp, test_size=0.50, stratify=y_temp, random_state=42)"
      ]
    },
    {
      "cell_type": "code",
      "execution_count": null,
      "metadata": {
        "id": "gjNnBvuOqksE"
      },
      "outputs": [],
      "source": [
        "scaler = StandardScaler()\n",
        "X_train_scaled = scaler.fit_transform(X_train)\n",
        "X_val_scaled = scaler.transform(X_val)\n",
        "X_test_scaled = scaler.transform(X_test)\n",
        "\n",
        "# Convert back to DataFrame for ease of handling feature names\n",
        "X_train = pd.DataFrame(X_train_scaled, columns=X_train.columns)\n",
        "X_val = pd.DataFrame(X_val_scaled, columns=X_train.columns)\n",
        "X_test = pd.DataFrame(X_test_scaled, columns=X_train.columns)"
      ]
    },
    {
      "cell_type": "markdown",
      "metadata": {
        "id": "qBlPwHitf9a-"
      },
      "source": [
        "**Model Evaluation Without Feature Selection**"
      ]
    },
    {
      "cell_type": "code",
      "execution_count": null,
      "metadata": {
        "colab": {
          "base_uri": "https://localhost:8080/"
        },
        "id": "EqTuUlbhlxiX",
        "outputId": "483bcf95-6fb7-46aa-968b-8a91047433df"
      },
      "outputs": [
        {
          "output_type": "stream",
          "name": "stdout",
          "text": [
            "0.8671212151177738 0.8419366014204054 0.5767656191286118 0.6845694299362683\n",
            "0.9830014041888337 0.9640205596801827 0.9681387575895417 0.9660752698782341\n",
            "0.9569349128809603 0.9540060312845768 0.8696675434606332 0.909886608177454\n",
            "0.8648418804263988 0.8150278041502781 0.5942289816664359 0.6873312897469918\n",
            "0.9051381444930087 0.8838165137614679 0.7144750113719518 0.7901747632275422\n"
          ]
        }
      ],
      "source": [
        "model=LinearSVC(max_iter=10000)\n",
        "model.fit(X_train,y_train)\n",
        "\n",
        "y_pred=model.predict(X_test)\n",
        "print(accuracy_score(y_test,y_pred),precision_score(y_test,y_pred),recall_score(y_test,y_pred),f1_score(y_test,y_pred))\n",
        "\n",
        "model=DecisionTreeClassifier()\n",
        "model.fit(X_train,y_train)\n",
        "\n",
        "y_pred=model.predict(X_test)\n",
        "print(accuracy_score(y_test,y_pred),precision_score(y_test,y_pred),recall_score(y_test,y_pred),f1_score(y_test,y_pred))\n",
        "\n",
        "model=GradientBoostingClassifier()\n",
        "model.fit(X_train,y_train)\n",
        "\n",
        "y_pred=model.predict(X_test)\n",
        "print(accuracy_score(y_test,y_pred),precision_score(y_test,y_pred),recall_score(y_test,y_pred),f1_score(y_test,y_pred))\n",
        "\n",
        "model=LogisticRegression(max_iter=1000)\n",
        "model.fit(X_train,y_train)\n",
        "\n",
        "y_pred=model.predict(X_test)\n",
        "print(accuracy_score(y_test,y_pred),precision_score(y_test,y_pred),recall_score(y_test,y_pred),f1_score(y_test,y_pred))\n",
        "\n",
        "model=AdaBoostClassifier()\n",
        "model.fit(X_train,y_train)\n",
        "\n",
        "y_pred=model.predict(X_test)\n",
        "print(accuracy_score(y_test,y_pred),precision_score(y_test,y_pred),recall_score(y_test,y_pred),f1_score(y_test,y_pred))"
      ]
    },
    {
      "cell_type": "markdown",
      "metadata": {
        "id": "n8T1Fu5jfyS_"
      },
      "source": [
        "**MIFS Feature selection, Model Evaluation**"
      ]
    },
    {
      "cell_type": "code",
      "execution_count": null,
      "metadata": {
        "colab": {
          "base_uri": "https://localhost:8080/"
        },
        "id": "0_oOH3trSwHW",
        "outputId": "ece466ae-2bfb-4703-b704-6021728c9344"
      },
      "outputs": [
        {
          "output_type": "stream",
          "name": "stdout",
          "text": [
            "MIFS Top Features: ['BMI', 'CTC', 'AGE', 'ALC', 'RRR', 'RRM', 'CDS', 'CNB', 'CDC', 'SEX_male', 'SEX_female', 'SMK_stopped', 'SMK_never', 'SMK_travel critical', 'WKG_never']\n"
          ]
        }
      ],
      "source": [
        "def select_features_mifs(X, y, top_k=15):\n",
        "    mi_scores = mutual_info_classif(X, y, random_state=42)\n",
        "    mi_series = pd.Series(mi_scores, index=X.columns)\n",
        "    mi_series = mi_series.sort_values(ascending=False)\n",
        "    top_features = mi_series.index[:top_k].tolist()\n",
        "    print(\"MIFS Top Features:\", top_features)\n",
        "    return top_features\n",
        "\n",
        "features_mifs = select_features_mifs(X_train, y_train)\n",
        "X_train_mifs=X_train[features_mifs]\n",
        "X_test_mifs=X_test[features_mifs]\n",
        "X_val_mifs=X_val[features_mifs]"
      ]
    },
    {
      "cell_type": "code",
      "execution_count": null,
      "metadata": {
        "colab": {
          "base_uri": "https://localhost:8080/"
        },
        "id": "zvXnMDAMitRJ",
        "outputId": "2714c561-8b6c-4bd2-9ed8-2b1a8f955229"
      },
      "outputs": [
        {
          "output_type": "stream",
          "name": "stdout",
          "text": [
            "0.8646836619662599 0.8398335628681103 0.5668374107548998 0.676844963986303\n",
            "0.9819037636216206 0.9638442216024842 0.9637679726282063 0.9638060956072863\n",
            "0.9595554061270098 0.9570384109388143 0.8776180210826098 0.9156092025172805\n",
            "0.8622016098728319 0.8113150602244354 0.5848149832881752 0.6796919894265027\n",
            "0.9051381444930087 0.8838165137614679 0.7144750113719518 0.7901747632275422\n"
          ]
        }
      ],
      "source": [
        "model=LinearSVC(max_iter=10000)\n",
        "model.fit(X_train_mifs,y_train)\n",
        "\n",
        "y_pred=model.predict(X_test_mifs)\n",
        "print(accuracy_score(y_test,y_pred),precision_score(y_test,y_pred),recall_score(y_test,y_pred),f1_score(y_test,y_pred))\n",
        "\n",
        "model=DecisionTreeClassifier()\n",
        "model.fit(X_train_mifs,y_train)\n",
        "\n",
        "y_pred=model.predict(X_test_mifs)\n",
        "print(accuracy_score(y_test,y_pred),precision_score(y_test,y_pred),recall_score(y_test,y_pred),f1_score(y_test,y_pred))\n",
        "\n",
        "model=GradientBoostingClassifier()\n",
        "model.fit(X_train_mifs,y_train)\n",
        "\n",
        "y_pred=model.predict(X_test_mifs)\n",
        "print(accuracy_score(y_test,y_pred),precision_score(y_test,y_pred),recall_score(y_test,y_pred),f1_score(y_test,y_pred))\n",
        "\n",
        "model=LogisticRegression(max_iter=1000)\n",
        "model.fit(X_train_mifs,y_train)\n",
        "\n",
        "y_pred=model.predict(X_test_mifs)\n",
        "print(accuracy_score(y_test,y_pred),precision_score(y_test,y_pred),recall_score(y_test,y_pred),f1_score(y_test,y_pred))\n",
        "\n",
        "model=AdaBoostClassifier()\n",
        "model.fit(X_train_mifs,y_train)\n",
        "\n",
        "y_pred=model.predict(X_test_mifs)\n",
        "print(accuracy_score(y_test,y_pred),precision_score(y_test,y_pred),recall_score(y_test,y_pred),f1_score(y_test,y_pred))"
      ]
    },
    {
      "cell_type": "markdown",
      "metadata": {
        "id": "mIk2SnDa3MYf"
      },
      "source": [
        "**RFE Feature Selection,Model Evaluation**"
      ]
    },
    {
      "cell_type": "code",
      "execution_count": null,
      "metadata": {
        "colab": {
          "base_uri": "https://localhost:8080/"
        },
        "id": "6-ZLg7qdoSR2",
        "outputId": "25cd1c16-1d8b-4669-aae7-86d37db1c831"
      },
      "outputs": [
        {
          "output_type": "stream",
          "name": "stdout",
          "text": [
            "RFE Top Features: ['RRR', 'CDS', 'SEX_female', 'SEX_male', 'WKG_never', 'WKG_quit0', 'WKG_quit10', 'WKG_quit5', 'WKG_vape', 'WKG_yesheavy', 'WKG_yeslight', 'WKG_yesmedium', 'SMK_never', 'SMK_stopped', 'SMK_travel critical']\n"
          ]
        }
      ],
      "source": [
        "def select_features_rfe(X, y, top_k=15):\n",
        "    # Using Logistic Regression as estimator\n",
        "    lr_estimator = LogisticRegression(max_iter=1000, random_state=42)\n",
        "    rfe = RFE(estimator=lr_estimator, n_features_to_select=top_k)\n",
        "    rfe.fit(X, y)\n",
        "    top_features = X.columns[rfe.support_].tolist()\n",
        "    print(\"RFE Top Features:\", top_features)\n",
        "    return top_features\n",
        "\n",
        "features_rfe = select_features_rfe(X_train, y_train)\n",
        "X_train_rfe=X_train[features_rfe]\n",
        "X_test_rfe=X_test[features_rfe]\n",
        "X_val_rfe=X_val[features_rfe]"
      ]
    },
    {
      "cell_type": "code",
      "execution_count": null,
      "metadata": {
        "colab": {
          "base_uri": "https://localhost:8080/"
        },
        "id": "3V4ZxT30okhz",
        "outputId": "00bc3229-d1d5-4ae2-90c9-9ac123f5d12b"
      },
      "outputs": [
        {
          "output_type": "stream",
          "name": "stdout",
          "text": [
            "0.824506061744754 0.858359096313912 0.35692106876569824 0.5041906464770632\n",
            "0.8555959891620355 0.8299397497296462 0.5312382572236616 0.6478149720239244\n",
            "0.8543747404228388 0.8393236031633768 0.5163459446630936 0.6393613243703241\n",
            "0.8342463856970512 0.7828801009396686 0.46630935664418643 0.5844819038175508\n",
            "0.8413958823645749 0.8345701357466063 0.45596582481261 0.5897324397605771\n"
          ]
        }
      ],
      "source": [
        "model=LinearSVC(max_iter=10000)\n",
        "model.fit(X_train_rfe,y_train)\n",
        "\n",
        "y_pred=model.predict(X_test_rfe)\n",
        "print(accuracy_score(y_test,y_pred),precision_score(y_test,y_pred),recall_score(y_test,y_pred),f1_score(y_test,y_pred))\n",
        "\n",
        "model=DecisionTreeClassifier()\n",
        "model.fit(X_train_rfe,y_train)\n",
        "\n",
        "y_pred=model.predict(X_test_rfe)\n",
        "print(accuracy_score(y_test,y_pred),precision_score(y_test,y_pred),recall_score(y_test,y_pred),f1_score(y_test,y_pred))\n",
        "\n",
        "model=GradientBoostingClassifier()\n",
        "model.fit(X_train_rfe,y_train)\n",
        "\n",
        "y_pred=model.predict(X_test_rfe)\n",
        "print(accuracy_score(y_test,y_pred),precision_score(y_test,y_pred),recall_score(y_test,y_pred),f1_score(y_test,y_pred))\n",
        "\n",
        "model=LogisticRegression(max_iter=1000)\n",
        "model.fit(X_train_rfe,y_train)\n",
        "\n",
        "y_pred=model.predict(X_test_rfe)\n",
        "print(accuracy_score(y_test,y_pred),precision_score(y_test,y_pred),recall_score(y_test,y_pred),f1_score(y_test,y_pred))\n",
        "\n",
        "model=AdaBoostClassifier()\n",
        "model.fit(X_train_rfe,y_train)\n",
        "\n",
        "y_pred=model.predict(X_test_rfe)\n",
        "print(accuracy_score(y_test,y_pred),precision_score(y_test,y_pred),recall_score(y_test,y_pred),f1_score(y_test,y_pred))"
      ]
    },
    {
      "cell_type": "markdown",
      "metadata": {
        "id": "_eGzIUyCRYwo"
      },
      "source": [
        "**RidgeCV Feature Selection,Model Evaluation**"
      ]
    },
    {
      "cell_type": "code",
      "execution_count": null,
      "metadata": {
        "colab": {
          "base_uri": "https://localhost:8080/"
        },
        "id": "V8DhulFwo54y",
        "outputId": "c534b127-3267-41d3-dcb1-fe80bfb228d5"
      },
      "outputs": [
        {
          "output_type": "stream",
          "name": "stdout",
          "text": [
            "RidgeCV Top Features: ['AGE', 'BMI', 'ALC', 'CNB', 'APT', 'CCN', 'CTC', 'RRR', 'RRM', 'CDS', 'CDC', 'AST', 'KDD', 'LVD', 'CPI']\n"
          ]
        }
      ],
      "source": [
        "def select_features_ridge(X, y, top_k=15):\n",
        "    # RidgeClassifierCV will select features based on the absolute value of coefficients\n",
        "    ridge = RidgeClassifierCV(alphas=np.logspace(-6, 6, 13), scoring='accuracy')\n",
        "    ridge.fit(X, y)\n",
        "    coefs = np.abs(ridge.coef_[0])\n",
        "    feature_ranks = pd.Series(coefs, index=X.columns)\n",
        "    feature_ranks = feature_ranks.sort_values(ascending=False)\n",
        "    top_features = feature_ranks.index[:top_k].tolist()\n",
        "    print(\"RidgeCV Top Features:\", top_features)\n",
        "    return top_features\n",
        "\n",
        "features_rdg = select_features_ridge(X_train, y_train)\n",
        "X_train_rdg=X_train[features_rdg]\n",
        "X_test_rdg=X_test[features_rdg]\n",
        "X_val_rdg=X_val[features_rdg]"
      ]
    },
    {
      "cell_type": "code",
      "execution_count": null,
      "metadata": {
        "colab": {
          "base_uri": "https://localhost:8080/"
        },
        "id": "gZEG-i84o9Co",
        "outputId": "60d1de92-3e9d-43a3-b972-7e3c8966e0e6"
      },
      "outputs": [
        {
          "output_type": "stream",
          "name": "stdout",
          "text": [
            "0.8648369360995194 0.8451524698329668 0.5623875165634951 0.6753672410312437\n",
            "0.9819284852560173 0.966078454751401 0.9614738049561933 0.9637706299251623\n",
            "0.9599015090085635 0.9566704675028507 0.8794375333742064 0.9164296607724332\n",
            "0.8629778691928881 0.8182273968024065 0.5809781856298084 0.6794888105013589\n",
            "0.9101813579099342 0.8982421634910879 0.7225837074540672 0.8008943641903593\n"
          ]
        }
      ],
      "source": [
        "model=LinearSVC(max_iter=10000)\n",
        "model.fit(X_train_rdg,y_train)\n",
        "\n",
        "y_pred=model.predict(X_test_rdg)\n",
        "print(accuracy_score(y_test,y_pred),precision_score(y_test,y_pred),recall_score(y_test,y_pred),f1_score(y_test,y_pred))\n",
        "\n",
        "model=DecisionTreeClassifier()\n",
        "model.fit(X_train_rdg,y_train)\n",
        "\n",
        "y_pred=model.predict(X_test_rdg)\n",
        "print(accuracy_score(y_test,y_pred),precision_score(y_test,y_pred),recall_score(y_test,y_pred),f1_score(y_test,y_pred))\n",
        "\n",
        "model=GradientBoostingClassifier()\n",
        "model.fit(X_train_rdg,y_train)\n",
        "\n",
        "y_pred=model.predict(X_test_rdg)\n",
        "print(accuracy_score(y_test,y_pred),precision_score(y_test,y_pred),recall_score(y_test,y_pred),f1_score(y_test,y_pred))\n",
        "\n",
        "model=LogisticRegression(max_iter=1000)\n",
        "model.fit(X_train_rdg,y_train)\n",
        "\n",
        "y_pred=model.predict(X_test_rdg)\n",
        "print(accuracy_score(y_test,y_pred),precision_score(y_test,y_pred),recall_score(y_test,y_pred),f1_score(y_test,y_pred))\n",
        "\n",
        "model=AdaBoostClassifier()\n",
        "model.fit(X_train_rdg,y_train)\n",
        "\n",
        "y_pred=model.predict(X_test_rdg)\n",
        "print(accuracy_score(y_test,y_pred),precision_score(y_test,y_pred),recall_score(y_test,y_pred),f1_score(y_test,y_pred))"
      ]
    },
    {
      "cell_type": "markdown",
      "metadata": {
        "id": "wccROiCj21e_"
      },
      "source": [
        "**PCA,Model Evaluation**"
      ]
    },
    {
      "cell_type": "code",
      "execution_count": null,
      "metadata": {
        "id": "nJZrxeZJpZWv"
      },
      "outputs": [],
      "source": [
        "pca=PCA(n_components=15,random_state=42)\n",
        "X_train_pca=pca.fit_transform(X_train)\n",
        "X_test_pca=pca.transform(X_test)\n",
        "X_val_pca=pca.transform(X_val)"
      ]
    },
    {
      "cell_type": "code",
      "execution_count": null,
      "metadata": {
        "colab": {
          "base_uri": "https://localhost:8080/"
        },
        "id": "hPPZ_4Q1pc9o",
        "outputId": "6db78149-fdfc-4e15-b17c-05ea791530d4"
      },
      "outputs": [
        {
          "output_type": "stream",
          "name": "stdout",
          "text": [
            "0.8454798963669086 0.8105960690964069 0.49836837212981827 0.6172443355786895\n",
            "0.9332120325138935 0.8529383750833412 0.8855289440895516 0.8689281763667062\n",
            "0.863180586594941 0.8425873267682361 0.5567312066135316 0.6704615824322393\n",
            "0.846493483377173 0.7854050892073706 0.5310800387635227 0.6336766840111855\n",
            "0.8500484544034175 0.7809714238107139 0.5561774420030458 0.6496788800073927\n"
          ]
        }
      ],
      "source": [
        "model=LinearSVC(max_iter=10000)\n",
        "model.fit(X_train_pca,y_train)\n",
        "\n",
        "y_pred=model.predict(X_test_pca)\n",
        "print(accuracy_score(y_test,y_pred),precision_score(y_test,y_pred),recall_score(y_test,y_pred),f1_score(y_test,y_pred))\n",
        "\n",
        "model=DecisionTreeClassifier()\n",
        "model.fit(X_train_pca,y_train)\n",
        "\n",
        "y_pred=model.predict(X_test_pca)\n",
        "print(accuracy_score(y_test,y_pred),precision_score(y_test,y_pred),recall_score(y_test,y_pred),f1_score(y_test,y_pred))\n",
        "\n",
        "model=GradientBoostingClassifier()\n",
        "model.fit(X_train_pca,y_train)\n",
        "\n",
        "y_pred=model.predict(X_test_pca)\n",
        "print(accuracy_score(y_test,y_pred),precision_score(y_test,y_pred),recall_score(y_test,y_pred),f1_score(y_test,y_pred))\n",
        "\n",
        "model=LogisticRegression(max_iter=1000)\n",
        "model.fit(X_train_pca,y_train)\n",
        "\n",
        "y_pred=model.predict(X_test_pca)\n",
        "print(accuracy_score(y_test,y_pred),precision_score(y_test,y_pred),recall_score(y_test,y_pred),f1_score(y_test,y_pred))\n",
        "\n",
        "model=AdaBoostClassifier()\n",
        "model.fit(X_train_pca,y_train)\n",
        "\n",
        "y_pred=model.predict(X_test_pca)\n",
        "print(accuracy_score(y_test,y_pred),precision_score(y_test,y_pred),recall_score(y_test,y_pred),f1_score(y_test,y_pred))"
      ]
    },
    {
      "cell_type": "markdown",
      "metadata": {
        "id": "jAA1uymH_fRx"
      },
      "source": [
        "**Union of Feature Subsets**"
      ]
    },
    {
      "cell_type": "code",
      "source": [
        "f=features_mifs\n",
        "e=features_rfe\n",
        "w=features_rdg\n",
        "# Pairwise unions\n",
        "union_f_e = list(set(f) | set(e))\n",
        "union_f_w = list(set(f) | set(w))\n",
        "union_e_w = list(set(e) | set(w))\n",
        "\n",
        "# Union of all three\n",
        "union_all = list(set(f) | set(e) | set(w))\n"
      ],
      "metadata": {
        "id": "H0DNZNVyBsdh"
      },
      "execution_count": null,
      "outputs": []
    },
    {
      "cell_type": "markdown",
      "source": [
        "**FUE**"
      ],
      "metadata": {
        "id": "X5PBMzZTC1hD"
      }
    },
    {
      "cell_type": "code",
      "source": [
        "X_train_subset = X_train.loc[:, union_f_e]\n",
        "X_val_subset = X_val.loc[:, union_f_e]\n",
        "X_test_subset = X_test.loc[:, union_f_e]"
      ],
      "metadata": {
        "id": "Fh0QmB8jDAj6"
      },
      "execution_count": null,
      "outputs": []
    },
    {
      "cell_type": "code",
      "source": [
        "model=LinearSVC(max_iter=10000)\n",
        "model.fit(X_train_subset,y_train)\n",
        "\n",
        "y_pred=model.predict(X_test_subset)\n",
        "print(accuracy_score(y_test,y_pred),precision_score(y_test,y_pred),recall_score(y_test,y_pred),f1_score(y_test,y_pred))\n",
        "\n",
        "model=DecisionTreeClassifier()\n",
        "model.fit(X_train_subset,y_train)\n",
        "\n",
        "y_pred=model.predict(X_test_subset)\n",
        "print(accuracy_score(y_test,y_pred),precision_score(y_test,y_pred),recall_score(y_test,y_pred),f1_score(y_test,y_pred))\n",
        "\n",
        "model=GradientBoostingClassifier()\n",
        "model.fit(X_train_subset,y_train)\n",
        "\n",
        "y_pred=model.predict(X_test_subset)\n",
        "print(accuracy_score(y_test,y_pred),precision_score(y_test,y_pred),recall_score(y_test,y_pred),f1_score(y_test,y_pred))\n",
        "\n",
        "model=LogisticRegression(max_iter=1000)\n",
        "model.fit(X_train_subset,y_train)\n",
        "\n",
        "y_pred=model.predict(X_test_subset)\n",
        "print(accuracy_score(y_test,y_pred),precision_score(y_test,y_pred),recall_score(y_test,y_pred),f1_score(y_test,y_pred))\n",
        "\n",
        "model=AdaBoostClassifier()\n",
        "model.fit(X_train_subset,y_train)\n",
        "\n",
        "y_pred=model.predict(X_test_subset)\n",
        "print(accuracy_score(y_test,y_pred),precision_score(y_test,y_pred),recall_score(y_test,y_pred),f1_score(y_test,y_pred))"
      ],
      "metadata": {
        "id": "lemmijPmDVb6",
        "colab": {
          "base_uri": "https://localhost:8080/"
        },
        "outputId": "691005fc-72d0-4f01-85c5-bd670c335a76"
      },
      "execution_count": null,
      "outputs": [
        {
          "output_type": "stream",
          "name": "stdout",
          "text": [
            "0.8666070051223227 0.8424721189591078 0.5737001364634219 0.6825813283134302\n",
            "0.9824624725589858 0.9647870615682708 0.9650732749243518 0.9649301470224736\n",
            "0.9600646717955817 0.9572517112230402 0.8795364199117932 0.9167499819626679\n",
            "0.8638826810118071 0.8143235350309779 0.5900757470877914 0.6842962317378042\n",
            "0.9051381444930087 0.8838165137614679 0.7144750113719518 0.7901747632275422\n"
          ]
        }
      ]
    },
    {
      "cell_type": "markdown",
      "source": [
        "**FUW**"
      ],
      "metadata": {
        "id": "JQK-Y1vwDtsH"
      }
    },
    {
      "cell_type": "code",
      "source": [
        "X_train_subset = X_train.loc[:, union_f_w]\n",
        "X_val_subset = X_val.loc[:, union_f_w]\n",
        "X_test_subset = X_test.loc[:, union_f_w]"
      ],
      "metadata": {
        "id": "FVrGEkveDuMY"
      },
      "execution_count": null,
      "outputs": []
    },
    {
      "cell_type": "code",
      "source": [
        "model=LinearSVC(max_iter=10000)\n",
        "model.fit(X_train_subset,y_train)\n",
        "\n",
        "y_pred=model.predict(X_test_subset)\n",
        "print(accuracy_score(y_test,y_pred),precision_score(y_test,y_pred),recall_score(y_test,y_pred),f1_score(y_test,y_pred))\n",
        "\n",
        "model=DecisionTreeClassifier()\n",
        "model.fit(X_train_subset,y_train)\n",
        "\n",
        "y_pred=model.predict(X_test_subset)\n",
        "print(accuracy_score(y_test,y_pred),precision_score(y_test,y_pred),recall_score(y_test,y_pred),f1_score(y_test,y_pred))\n",
        "\n",
        "model=GradientBoostingClassifier()\n",
        "model.fit(X_train_subset,y_train)\n",
        "\n",
        "y_pred=model.predict(X_test_subset)\n",
        "print(accuracy_score(y_test,y_pred),precision_score(y_test,y_pred),recall_score(y_test,y_pred),f1_score(y_test,y_pred))\n",
        "\n",
        "model=LogisticRegression(max_iter=1000)\n",
        "model.fit(X_train_subset,y_train)\n",
        "\n",
        "y_pred=model.predict(X_test_subset)\n",
        "print(accuracy_score(y_test,y_pred),precision_score(y_test,y_pred),recall_score(y_test,y_pred),f1_score(y_test,y_pred))\n",
        "\n",
        "model=AdaBoostClassifier()\n",
        "model.fit(X_train_subset,y_train)\n",
        "\n",
        "y_pred=model.predict(X_test_subset)\n",
        "print(accuracy_score(y_test,y_pred),precision_score(y_test,y_pred),recall_score(y_test,y_pred),f1_score(y_test,y_pred))"
      ],
      "metadata": {
        "id": "XHBoSDU2D7d7",
        "colab": {
          "base_uri": "https://localhost:8080/"
        },
        "outputId": "36b3096f-4719-46aa-a483-db88c5ad86eb"
      },
      "execution_count": null,
      "outputs": [
        {
          "output_type": "stream",
          "name": "stdout",
          "text": [
            "0.8649358226371062 0.8388234608208955 0.5690920238118783 0.6781198816972439\n",
            "0.9817554338152404 0.9629249214845833 0.9641437414710361 0.9635339460420991\n",
            "0.9590807507465934 0.9551393821978259 0.8775389118525404 0.9146962419344864\n",
            "0.8626218776575757 0.8101748461245166 0.5883353440262643 0.6816603842760738\n",
            "0.9051381444930087 0.8838165137614679 0.7144750113719518 0.7901747632275422\n"
          ]
        }
      ]
    },
    {
      "cell_type": "markdown",
      "source": [
        "**WUE**"
      ],
      "metadata": {
        "id": "Rxp3y6s4EJPT"
      }
    },
    {
      "cell_type": "code",
      "source": [
        "X_train_subset = X_train.loc[:, union_e_w]\n",
        "X_val_subset = X_val.loc[:, union_e_w]\n",
        "X_test_subset = X_test.loc[:, union_e_w]"
      ],
      "metadata": {
        "id": "qsvyFEbYEJlY"
      },
      "execution_count": null,
      "outputs": []
    },
    {
      "cell_type": "code",
      "source": [
        "model=LinearSVC(max_iter=10000)\n",
        "model.fit(X_train_subset,y_train)\n",
        "\n",
        "y_pred=model.predict(X_test_subset)\n",
        "print(accuracy_score(y_test,y_pred),precision_score(y_test,y_pred),recall_score(y_test,y_pred),f1_score(y_test,y_pred))\n",
        "\n",
        "model=DecisionTreeClassifier()\n",
        "model.fit(X_train_subset,y_train)\n",
        "\n",
        "y_pred=model.predict(X_test_subset)\n",
        "print(accuracy_score(y_test,y_pred),precision_score(y_test,y_pred),recall_score(y_test,y_pred),f1_score(y_test,y_pred))\n",
        "\n",
        "model=GradientBoostingClassifier()\n",
        "model.fit(X_train_subset,y_train)\n",
        "\n",
        "y_pred=model.predict(X_test_subset)\n",
        "print(accuracy_score(y_test,y_pred),precision_score(y_test,y_pred),recall_score(y_test,y_pred),f1_score(y_test,y_pred))\n",
        "\n",
        "model=LogisticRegression(max_iter=1000)\n",
        "model.fit(X_train_subset,y_train)\n",
        "\n",
        "y_pred=model.predict(X_test_subset)\n",
        "print(accuracy_score(y_test,y_pred),precision_score(y_test,y_pred),recall_score(y_test,y_pred),f1_score(y_test,y_pred))\n",
        "\n",
        "model=AdaBoostClassifier()\n",
        "model.fit(X_train_subset,y_train)\n",
        "\n",
        "y_pred=model.predict(X_test_subset)\n",
        "print(accuracy_score(y_test,y_pred),precision_score(y_test,y_pred),recall_score(y_test,y_pred),f1_score(y_test,y_pred))"
      ],
      "metadata": {
        "id": "2mbciLVKELz8",
        "colab": {
          "base_uri": "https://localhost:8080/"
        },
        "outputId": "c6e3fad5-5aa8-45ec-b870-3457b849056f"
      },
      "execution_count": null,
      "outputs": [
        {
          "output_type": "stream",
          "name": "stdout",
          "text": [
            "0.8667405019480648 0.8407365717089502 0.5760931906730218 0.6836990963501937\n",
            "0.9819729841979313 0.9627927163684429 0.965191938769456 0.9639908347489432\n",
            "0.9599855625655124 0.956607749537694 0.8798528568320709 0.9166263173618766\n",
            "0.8642436168739988 0.8128181522798656 0.5936949943634674 0.6861877821589805\n",
            "0.9051381444930087 0.8838165137614679 0.7144750113719518 0.7901747632275422\n"
          ]
        }
      ]
    },
    {
      "cell_type": "markdown",
      "source": [
        "**FUEUW**"
      ],
      "metadata": {
        "id": "goLx4K-_EYyU"
      }
    },
    {
      "cell_type": "code",
      "source": [
        "X_train_subset = X_train.loc[:, union_all]\n",
        "X_val_subset = X_val.loc[:, union_all]\n",
        "X_test_subset = X_test.loc[:, union_all]"
      ],
      "metadata": {
        "id": "Z89Ld--JEZRp"
      },
      "execution_count": null,
      "outputs": []
    },
    {
      "cell_type": "code",
      "source": [
        "model=LinearSVC(max_iter=10000)\n",
        "model.fit(X_train_subset,y_train)\n",
        "\n",
        "y_pred=model.predict(X_test_subset)\n",
        "print(accuracy_score(y_test,y_pred),precision_score(y_test,y_pred),recall_score(y_test,y_pred),f1_score(y_test,y_pred))\n",
        "\n",
        "model=DecisionTreeClassifier()\n",
        "model.fit(X_train_subset,y_train)\n",
        "\n",
        "y_pred=model.predict(X_test_subset)\n",
        "print(accuracy_score(y_test,y_pred),precision_score(y_test,y_pred),recall_score(y_test,y_pred),f1_score(y_test,y_pred))\n",
        "\n",
        "model=GradientBoostingClassifier()\n",
        "model.fit(X_train_subset,y_train)\n",
        "\n",
        "y_pred=model.predict(X_test_subset)\n",
        "print(accuracy_score(y_test,y_pred),precision_score(y_test,y_pred),recall_score(y_test,y_pred),f1_score(y_test,y_pred))\n",
        "\n",
        "model=LogisticRegression(max_iter=1000)\n",
        "model.fit(X_train_subset,y_train)\n",
        "\n",
        "y_pred=model.predict(X_test_subset)\n",
        "print(accuracy_score(y_test,y_pred),precision_score(y_test,y_pred),recall_score(y_test,y_pred),f1_score(y_test,y_pred))\n",
        "\n",
        "model=AdaBoostClassifier()\n",
        "model.fit(X_train_subset,y_train)\n",
        "\n",
        "y_pred=model.predict(X_test_subset)\n",
        "print(accuracy_score(y_test,y_pred),precision_score(y_test,y_pred),recall_score(y_test,y_pred),f1_score(y_test,y_pred))"
      ],
      "metadata": {
        "id": "d3f-LESQEbvA",
        "colab": {
          "base_uri": "https://localhost:8080/"
        },
        "outputId": "60aef9b9-ff65-4df4-f689-3c7ca28206e0"
      },
      "execution_count": null,
      "outputs": [
        {
          "output_type": "stream",
          "name": "stdout",
          "text": [
            "0.8667405019480648 0.8407365717089502 0.5760931906730218 0.6836990963501937\n",
            "0.9819729841979313 0.9626831817912862 0.96531060261456 0.9639951019118345\n",
            "0.9599855625655124 0.956607749537694 0.8798528568320709 0.9166263173618766\n",
            "0.8642436168739988 0.8128181522798656 0.5936949943634674 0.6861877821589805\n",
            "0.9051381444930087 0.8838165137614679 0.7144750113719518 0.7901747632275422\n"
          ]
        }
      ]
    }
  ],
  "metadata": {
    "colab": {
      "provenance": []
    },
    "kernelspec": {
      "display_name": "Python 3",
      "name": "python3"
    },
    "language_info": {
      "name": "python"
    }
  },
  "nbformat": 4,
  "nbformat_minor": 0
}